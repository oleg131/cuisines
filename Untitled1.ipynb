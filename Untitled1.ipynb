{
 "cells": [
  {
   "cell_type": "code",
   "execution_count": 11,
   "metadata": {
    "ExecuteTime": {
     "end_time": "2019-07-09T16:26:13.591125Z",
     "start_time": "2019-07-09T16:26:13.573604Z"
    }
   },
   "outputs": [],
   "source": [
    "import re\n",
    "from itertools import chain\n",
    "\n",
    "import re\n",
    "\n",
    "\n",
    "SEPARATOR_RE = re.compile(r'^([\\d\\s*[\\d\\.,/]*)\\s*(.+)')\n",
    "\n",
    "\n",
    "def normalize(st):\n",
    "    \"\"\"\n",
    "\n",
    "    :param st:\n",
    "    :return:\n",
    "    \"\"\"\n",
    "    return re.sub(r'\\s+', ' ', SEPARATOR_RE.sub('\\g<1> \\g<2>', st)).strip()\n",
    "\n",
    "\n",
    "def escape_re_string(text):\n",
    "    \"\"\"\n",
    "\n",
    "    :param text:\n",
    "    :return:\n",
    "    \"\"\"\n",
    "    text = text.replace('.', '\\.')\n",
    "    return re.sub(r'\\s+', ' ', text)\n",
    "\n",
    "\n",
    "UNITS = {\"cup\": [\"cups\", \"cup\", \"c.\", \"c\"], \"fluid_ounce\": [\"fl. oz.\", \"fl oz\", \"fluid ounce\", \"fluid ounces\"],\n",
    "         \"gallon\": [\"gal\", \"gal.\", \"gallon\", \"gallons\"], \"ounce\": [\"oz\", \"oz.\", \"ounce\", \"ounces\"],\n",
    "         \"pint\": [\"pt\", \"pt.\", \"pint\", \"pints\"], \"pound\": [\"lb\", \"lb.\", \"pound\", \"pounds\"],\n",
    "         \"quart\": [\"qt\", \"qt.\", \"qts\", \"qts.\", \"quart\", \"quarts\"],\n",
    "         \"tablespoon\": [\"tbsp.\", \"tbsp\", \"T\", \"T.\", \"tablespoon\", \"tablespoons\", \"tbs.\", \"tbs\"],\n",
    "         \"teaspoon\": [\"tsp.\", \"tsp\", \"t\", \"t.\", \"teaspoon\", \"teaspoons\"],\n",
    "         \"gram\": [\"g\", \"g.\", \"gr\", \"gr.\", \"gram\", \"grams\", \"gms\"], \"kilogram\": [\"kg\", \"kg.\", \"kilogram\", \"kilograms\"],\n",
    "         \"liter\": [\"l\", \"l.\", \"liter\", \"liters\"], \"milligram\": [\"mg\", \"mg.\", \"milligram\", \"milligrams\"],\n",
    "         \"milliliter\": [\"ml\", \"ml.\", \"milliliter\", \"milliliters\"], \"pinch\": [\"pinch\", \"pinches\"],\n",
    "         \"dash\": [\"dash\", \"dashes\"], \"touch\": [\"touch\", \"touches\"], \"handful\": [\"handful\", \"handfuls\"],\n",
    "         \"stick\": [\"stick\", \"sticks\"], \"clove\": [\"cloves\", \"clove\"], \"can\": [\"cans\", \"can\"], \"large\": [\"large\"],\n",
    "         \"small\": [\"small\"], \"scoop\": [\"scoop\", \"scoops\"], \"filets\": [\"filet\", \"filets\"], \"sprig\": [\"sprigs\", \"sprig\"]}\n",
    "\n",
    "NUMBERS = ['seventeen', 'eighteen', 'thirteen', 'nineteen', 'fourteen', 'sixteen', 'fifteen', 'seventy', 'twelve',\n",
    "           'eleven', 'eighty', 'thirty', 'ninety', 'twenty', 'seven', 'fifty', 'sixty', 'forty', 'three', 'eight',\n",
    "           'four', 'zero', 'five', 'nine', 'ten', 'one', 'six', 'two', 'an', 'a']\n",
    "\n",
    "prepositions = [\"of\"]\n",
    "\n",
    "a = list(chain.from_iterable(UNITS.values()))\n",
    "a.sort(key=lambda x: len(x), reverse=True)\n",
    "a = map(escape_re_string, a)\n",
    "\n",
    "PARSER_RE = re.compile(\n",
    "    r'(?P<quantity>(?:[\\d\\.,][\\d\\.,\\s/]*)?\\s*(?:(?:%s)\\s*)*)?(\\s*(?P<unit>%s)\\s+)?(\\s*(?:%s)\\s+)?(\\s*(?P<name>.+))?' % (\n",
    "        '|'.join(NUMBERS), '|'.join(a), '|'.join(prepositions)))\n",
    "\n",
    "\n",
    "def parse(st):\n",
    "    \"\"\"\n",
    "\n",
    "    :param st:\n",
    "    :return:\n",
    "    \"\"\"\n",
    "    st = normalize(st)\n",
    "    res = PARSER_RE.match(st)\n",
    "\n",
    "    return {\n",
    "        'measure': (res.group('quantity') or '').strip() + ' ' + (res.group('unit') or '').strip(),\n",
    "        'name': (res.group('name') or '').strip()\n",
    "    }"
   ]
  },
  {
   "cell_type": "code",
   "execution_count": 21,
   "metadata": {
    "ExecuteTime": {
     "end_time": "2019-07-09T16:27:38.553406Z",
     "start_time": "2019-07-09T16:27:38.550180Z"
    }
   },
   "outputs": [],
   "source": [
    "query = '''\n",
    "4 Cups Water\n",
    "1 tsp Ginger, finely chopped\n",
    "1 tsp Garlic, finely chopped\n",
    "1 tsp Green chilies , finely chopped\n",
    "1 Tbsp Coriander leaves - finely chopped, finely chopped\n",
    "2 Tbsp French beans, finely chopped\n",
    "2 Tbsp Carrots, finely chopped\n",
    "2 Tbsp Cabbage , finely chopped\n",
    "2 Tbsp Capsicum , finely chopped\n",
    "2 Tbsp Mushrooms , finely chopped\n",
    "2 Spring onions, finely chopped\n",
    "1 tsp Pepper\n",
    "1 Tbsp Soya sauce\n",
    "4 Tbsp Cornflour - mixed with\n",
    "1 Cup Water\n",
    "2 stems Spring onion\n",
    "as required oil & salt\n",
    "'''"
   ]
  },
  {
   "cell_type": "code",
   "execution_count": 22,
   "metadata": {
    "ExecuteTime": {
     "end_time": "2019-07-09T16:27:38.917377Z",
     "start_time": "2019-07-09T16:27:38.913769Z"
    }
   },
   "outputs": [],
   "source": [
    "ing = query.strip().split('\\n')"
   ]
  },
  {
   "cell_type": "code",
   "execution_count": 23,
   "metadata": {
    "ExecuteTime": {
     "end_time": "2019-07-09T16:27:39.100591Z",
     "start_time": "2019-07-09T16:27:39.097856Z"
    }
   },
   "outputs": [],
   "source": [
    "ing = [parse(i) for i in ing]"
   ]
  },
  {
   "cell_type": "code",
   "execution_count": 24,
   "metadata": {
    "ExecuteTime": {
     "end_time": "2019-07-09T16:27:39.270376Z",
     "start_time": "2019-07-09T16:27:39.266706Z"
    }
   },
   "outputs": [
    {
     "name": "stdout",
     "output_type": "stream",
     "text": [
      "Cups Water\n",
      "Ginger, finely chopped\n",
      "Garlic, finely chopped\n",
      "Green chilies , finely chopped\n",
      "Tbsp Coriander leaves - finely chopped, finely chopped\n",
      "Tbsp French beans, finely chopped\n",
      "Tbsp Carrots, finely chopped\n",
      "Tbsp Cabbage , finely chopped\n",
      "Tbsp Capsicum , finely chopped\n",
      "Tbsp Mushrooms , finely chopped\n",
      "Spring onions, finely chopped\n",
      "Pepper\n",
      "Tbsp Soya sauce\n",
      "Tbsp Cornflour - mixed with\n",
      "Cup Water\n",
      "stems Spring onion\n",
      "s required oil & salt\n"
     ]
    }
   ],
   "source": [
    "for i in ing:\n",
    "    print(i['name'])"
   ]
  },
  {
   "cell_type": "code",
   "execution_count": null,
   "metadata": {},
   "outputs": [],
   "source": []
  }
 ],
 "metadata": {
  "kernelspec": {
   "display_name": "Python 3",
   "language": "python",
   "name": "python3"
  },
  "language_info": {
   "codemirror_mode": {
    "name": "ipython",
    "version": 3
   },
   "file_extension": ".py",
   "mimetype": "text/x-python",
   "name": "python",
   "nbconvert_exporter": "python",
   "pygments_lexer": "ipython3",
   "version": "3.7.0"
  },
  "toc": {
   "base_numbering": 1,
   "nav_menu": {},
   "number_sections": true,
   "sideBar": false,
   "skip_h1_title": false,
   "title_cell": "Table of Contents",
   "title_sidebar": "Contents",
   "toc_cell": false,
   "toc_position": {},
   "toc_section_display": true,
   "toc_window_display": false
  }
 },
 "nbformat": 4,
 "nbformat_minor": 2
}
