{
 "cells": [
  {
   "cell_type": "code",
   "execution_count": 18,
   "metadata": {
    "ExecuteTime": {
     "end_time": "2019-07-09T14:56:25.922512Z",
     "start_time": "2019-07-09T14:56:24.160013Z"
    }
   },
   "outputs": [],
   "source": [
    "import pandas as pd\n",
    "import numpy as np\n",
    "import re\n",
    "import seaborn as sns\n",
    "import warnings\n",
    "\n",
    "from nltk.stem import WordNetLemmatizer\n",
    "from sklearn.model_selection import train_test_split\n",
    "from sklearn.metrics import confusion_matrix, accuracy_score, balanced_accuracy_score\n",
    "from sklearn.linear_model import LogisticRegression, LogisticRegressionCV\n",
    "from sklearn.feature_extraction.text import TfidfVectorizer\n",
    "from sklearn.pipeline import make_pipeline\n",
    "from sklearn.base import TransformerMixin"
   ]
  },
  {
   "cell_type": "code",
   "execution_count": 7,
   "metadata": {
    "ExecuteTime": {
     "end_time": "2019-07-09T11:54:21.448614Z",
     "start_time": "2019-07-09T11:54:20.225457Z"
    }
   },
   "outputs": [
    {
     "name": "stderr",
     "output_type": "stream",
     "text": [
      "[nltk_data] Downloading package wordnet to\n",
      "[nltk_data]     /Users/shadesofdarkred/nltk_data...\n",
      "[nltk_data]   Unzipping corpora/wordnet.zip.\n"
     ]
    },
    {
     "data": {
      "text/plain": [
       "True"
      ]
     },
     "execution_count": 7,
     "metadata": {},
     "output_type": "execute_result"
    }
   ],
   "source": [
    "import nltk\n",
    "nltk.download('wordnet')"
   ]
  },
  {
   "cell_type": "code",
   "execution_count": 64,
   "metadata": {},
   "outputs": [],
   "source": [
    "from tabulate import tabulate"
   ]
  },
  {
   "cell_type": "code",
   "execution_count": 9,
   "metadata": {
    "ExecuteTime": {
     "end_time": "2019-07-09T14:56:29.559689Z",
     "start_time": "2019-07-09T14:56:29.300199Z"
    }
   },
   "outputs": [],
   "source": [
    "raw = pd.read_json('train.json')"
   ]
  },
  {
   "cell_type": "code",
   "execution_count": 127,
   "metadata": {},
   "outputs": [
    {
     "name": "stdout",
     "output_type": "stream",
     "text": [
      "|    |    id | cuisine     | ingredients                                            |\n",
      "|----|-------|-------------|--------------------------------------------------------|\n",
      "|  0 | 10259 | greek       | ['romaine lettuce', 'black olives', 'grape tomatoe...] |\n",
      "|  1 | 25693 | southern_us | ['plain flour', 'ground pepper', 'salt', 'tomatoes...] |\n",
      "|  2 | 20130 | filipino    | ['eggs', 'pepper', 'salt', 'mayonaise', 'cooking o...] |\n",
      "|  3 | 22213 | indian      | ['water', 'vegetable oil', 'wheat', 'salt']...]        |\n",
      "|  4 | 13162 | indian      | ['black pepper', 'shallots', 'cornflour', 'cayenne...] |\n"
     ]
    },
    {
     "name": "stderr",
     "output_type": "stream",
     "text": [
      "/Users/shadesofdarkred/miniconda3/envs/dev/lib/python3.7/site-packages/ipykernel_launcher.py:2: SettingWithCopyWarning: \n",
      "A value is trying to be set on a copy of a slice from a DataFrame.\n",
      "Try using .loc[row_indexer,col_indexer] = value instead\n",
      "\n",
      "See the caveats in the documentation: http://pandas.pydata.org/pandas-docs/stable/user_guide/indexing.html#returning-a-view-versus-a-copy\n",
      "  \n"
     ]
    }
   ],
   "source": [
    "a = raw.head()\n",
    "a['ingredients'] = a['ingredients'].apply(lambda x: str(x)[:50] + '...]')\n",
    "\n",
    "print(tabulate(a, raw.columns, tablefmt=\"github\"))"
   ]
  },
  {
   "cell_type": "code",
   "execution_count": 118,
   "metadata": {},
   "outputs": [],
   "source": [
    "class Lemmatizer(TransformerMixin):\n",
    "    \"\"\"Lemmatizer written using fit-predict paradigm.\"\"\"\n",
    "    \n",
    "    def __init__(self, lemmatizer):\n",
    "        self.lemmatizer = lemmatizer\n",
    "        \n",
    "    def lemmatize(self, x):\n",
    "        \"\"\"Lemmatize a single array of words.\"\"\"\n",
    "        \n",
    "        # Join array as a single string\n",
    "        x = ' '.join(x)\n",
    "        \n",
    "        # Remove non-letter characters\n",
    "        x = re.sub('[^A-Za-z]', ' ', x)\n",
    "        \n",
    "        # Lemmatizer using specified lemmatizer\n",
    "        x = self.lemmatizer.lemmatize(x)\n",
    "        \n",
    "        return x\n",
    "    \n",
    "    def fit(self, X, y=None):\n",
    "        return self\n",
    "        \n",
    "    def transform(self, X):\n",
    "        return [self.lemmatize(i) for i in X]"
   ]
  },
  {
   "cell_type": "code",
   "execution_count": 119,
   "metadata": {},
   "outputs": [],
   "source": [
    "lemmatizer = Lemmatizer(WordNetLemmatizer())"
   ]
  },
  {
   "cell_type": "code",
   "execution_count": null,
   "metadata": {},
   "outputs": [],
   "source": []
  },
  {
   "cell_type": "code",
   "execution_count": null,
   "metadata": {},
   "outputs": [],
   "source": []
  },
  {
   "cell_type": "code",
   "execution_count": 36,
   "metadata": {
    "ExecuteTime": {
     "end_time": "2019-07-09T14:56:31.512655Z",
     "start_time": "2019-07-09T14:56:31.503360Z"
    }
   },
   "outputs": [],
   "source": [
    "xtrain, xtest, ytrain, ytest = train_test_split(\n",
    "    raw['ingredients'].values,\n",
    "    raw['cuisine'].values, \n",
    "    test_size=0.3, random_state=0\n",
    ")"
   ]
  },
  {
   "cell_type": "code",
   "execution_count": 37,
   "metadata": {
    "ExecuteTime": {
     "end_time": "2019-07-09T14:56:31.518344Z",
     "start_time": "2019-07-09T14:56:31.514991Z"
    }
   },
   "outputs": [],
   "source": [
    "vectorizer = TfidfVectorizer(\n",
    "    stop_words='english', analyzer=\"word\"\n",
    ")"
   ]
  },
  {
   "cell_type": "code",
   "execution_count": 38,
   "metadata": {
    "ExecuteTime": {
     "end_time": "2019-07-09T14:56:31.523344Z",
     "start_time": "2019-07-09T14:56:31.520608Z"
    }
   },
   "outputs": [],
   "source": [
    "clf = LogisticRegression(random_state=0)\n",
    "# clf = LogisticRegressionCV(random_state=0, scoring='balanced_accuracy')"
   ]
  },
  {
   "cell_type": "code",
   "execution_count": 39,
   "metadata": {
    "ExecuteTime": {
     "end_time": "2019-07-09T15:11:10.881014Z",
     "start_time": "2019-07-09T15:11:10.878515Z"
    }
   },
   "outputs": [],
   "source": [
    "estimator = make_pipeline(\n",
    "    lemmatizer, vectorizer, clf\n",
    ")"
   ]
  },
  {
   "cell_type": "code",
   "execution_count": 40,
   "metadata": {
    "ExecuteTime": {
     "end_time": "2019-07-09T14:56:35.464078Z",
     "start_time": "2019-07-09T14:56:31.530054Z"
    },
    "scrolled": true
   },
   "outputs": [],
   "source": [
    "with warnings.catch_warnings():\n",
    "    warnings.simplefilter('ignore')\n",
    "    estimator.fit(xtrain, ytrain)"
   ]
  },
  {
   "cell_type": "code",
   "execution_count": 41,
   "metadata": {
    "ExecuteTime": {
     "end_time": "2019-07-09T14:56:35.666804Z",
     "start_time": "2019-07-09T14:56:35.465911Z"
    }
   },
   "outputs": [],
   "source": [
    "pred = estimator.predict(xtest)"
   ]
  },
  {
   "cell_type": "code",
   "execution_count": 43,
   "metadata": {
    "ExecuteTime": {
     "end_time": "2019-07-09T14:56:35.712437Z",
     "start_time": "2019-07-09T14:56:35.668640Z"
    }
   },
   "outputs": [
    {
     "data": {
      "text/plain": [
       "0.6373783949355007"
      ]
     },
     "execution_count": 43,
     "metadata": {},
     "output_type": "execute_result"
    }
   ],
   "source": [
    "balanced_accuracy_score(ytest, pred)"
   ]
  },
  {
   "cell_type": "code",
   "execution_count": null,
   "metadata": {},
   "outputs": [],
   "source": []
  },
  {
   "cell_type": "code",
   "execution_count": 67,
   "metadata": {
    "ExecuteTime": {
     "end_time": "2019-07-09T12:26:40.883151Z",
     "start_time": "2019-07-09T12:26:40.824771Z"
    }
   },
   "outputs": [],
   "source": [
    "cm = confusion_matrix(ytest, pred)\n",
    "cm = pd.DataFrame(cm / cm.sum(axis=1)[:, np.newaxis],\n",
    "                 columns=clf.classes_, index=clf.classes_)"
   ]
  },
  {
   "cell_type": "code",
   "execution_count": 68,
   "metadata": {
    "ExecuteTime": {
     "end_time": "2019-07-09T13:14:21.867588Z",
     "start_time": "2019-07-09T13:14:21.834445Z"
    }
   },
   "outputs": [
    {
     "data": {
      "text/html": [
       "<div>\n",
       "<style scoped>\n",
       "    .dataframe tbody tr th:only-of-type {\n",
       "        vertical-align: middle;\n",
       "    }\n",
       "\n",
       "    .dataframe tbody tr th {\n",
       "        vertical-align: top;\n",
       "    }\n",
       "\n",
       "    .dataframe thead th {\n",
       "        text-align: right;\n",
       "    }\n",
       "</style>\n",
       "<table border=\"1\" class=\"dataframe\">\n",
       "  <thead>\n",
       "    <tr style=\"text-align: right;\">\n",
       "      <th></th>\n",
       "      <th>brazilian</th>\n",
       "      <th>british</th>\n",
       "      <th>cajun_creole</th>\n",
       "      <th>chinese</th>\n",
       "      <th>filipino</th>\n",
       "      <th>french</th>\n",
       "      <th>greek</th>\n",
       "      <th>indian</th>\n",
       "      <th>irish</th>\n",
       "      <th>italian</th>\n",
       "      <th>jamaican</th>\n",
       "      <th>japanese</th>\n",
       "      <th>korean</th>\n",
       "      <th>mexican</th>\n",
       "      <th>moroccan</th>\n",
       "      <th>russian</th>\n",
       "      <th>southern_us</th>\n",
       "      <th>spanish</th>\n",
       "      <th>thai</th>\n",
       "      <th>vietnamese</th>\n",
       "    </tr>\n",
       "  </thead>\n",
       "  <tbody>\n",
       "    <tr>\n",
       "      <td>brazilian</td>\n",
       "      <td>35</td>\n",
       "      <td>0</td>\n",
       "      <td>1</td>\n",
       "      <td>1</td>\n",
       "      <td>3</td>\n",
       "      <td>3</td>\n",
       "      <td>0</td>\n",
       "      <td>3</td>\n",
       "      <td>1</td>\n",
       "      <td>15</td>\n",
       "      <td>0</td>\n",
       "      <td>0</td>\n",
       "      <td>0</td>\n",
       "      <td>17</td>\n",
       "      <td>0</td>\n",
       "      <td>0</td>\n",
       "      <td>12</td>\n",
       "      <td>4</td>\n",
       "      <td>5</td>\n",
       "      <td>0</td>\n",
       "    </tr>\n",
       "    <tr>\n",
       "      <td>british</td>\n",
       "      <td>0</td>\n",
       "      <td>33</td>\n",
       "      <td>1</td>\n",
       "      <td>0</td>\n",
       "      <td>0</td>\n",
       "      <td>17</td>\n",
       "      <td>0</td>\n",
       "      <td>2</td>\n",
       "      <td>3</td>\n",
       "      <td>13</td>\n",
       "      <td>0</td>\n",
       "      <td>0</td>\n",
       "      <td>0</td>\n",
       "      <td>2</td>\n",
       "      <td>0</td>\n",
       "      <td>0</td>\n",
       "      <td>26</td>\n",
       "      <td>0</td>\n",
       "      <td>0</td>\n",
       "      <td>0</td>\n",
       "    </tr>\n",
       "    <tr>\n",
       "      <td>cajun_creole</td>\n",
       "      <td>0</td>\n",
       "      <td>0</td>\n",
       "      <td>67</td>\n",
       "      <td>1</td>\n",
       "      <td>0</td>\n",
       "      <td>4</td>\n",
       "      <td>0</td>\n",
       "      <td>1</td>\n",
       "      <td>0</td>\n",
       "      <td>6</td>\n",
       "      <td>0</td>\n",
       "      <td>0</td>\n",
       "      <td>0</td>\n",
       "      <td>3</td>\n",
       "      <td>0</td>\n",
       "      <td>0</td>\n",
       "      <td>16</td>\n",
       "      <td>1</td>\n",
       "      <td>0</td>\n",
       "      <td>0</td>\n",
       "    </tr>\n",
       "    <tr>\n",
       "      <td>chinese</td>\n",
       "      <td>0</td>\n",
       "      <td>0</td>\n",
       "      <td>0</td>\n",
       "      <td>89</td>\n",
       "      <td>0</td>\n",
       "      <td>1</td>\n",
       "      <td>0</td>\n",
       "      <td>0</td>\n",
       "      <td>0</td>\n",
       "      <td>2</td>\n",
       "      <td>0</td>\n",
       "      <td>2</td>\n",
       "      <td>1</td>\n",
       "      <td>1</td>\n",
       "      <td>0</td>\n",
       "      <td>0</td>\n",
       "      <td>1</td>\n",
       "      <td>0</td>\n",
       "      <td>2</td>\n",
       "      <td>1</td>\n",
       "    </tr>\n",
       "    <tr>\n",
       "      <td>filipino</td>\n",
       "      <td>1</td>\n",
       "      <td>0</td>\n",
       "      <td>1</td>\n",
       "      <td>16</td>\n",
       "      <td>49</td>\n",
       "      <td>3</td>\n",
       "      <td>0</td>\n",
       "      <td>0</td>\n",
       "      <td>0</td>\n",
       "      <td>5</td>\n",
       "      <td>0</td>\n",
       "      <td>2</td>\n",
       "      <td>0</td>\n",
       "      <td>5</td>\n",
       "      <td>0</td>\n",
       "      <td>0</td>\n",
       "      <td>9</td>\n",
       "      <td>0</td>\n",
       "      <td>4</td>\n",
       "      <td>2</td>\n",
       "    </tr>\n",
       "    <tr>\n",
       "      <td>french</td>\n",
       "      <td>0</td>\n",
       "      <td>1</td>\n",
       "      <td>1</td>\n",
       "      <td>0</td>\n",
       "      <td>0</td>\n",
       "      <td>63</td>\n",
       "      <td>1</td>\n",
       "      <td>0</td>\n",
       "      <td>1</td>\n",
       "      <td>23</td>\n",
       "      <td>0</td>\n",
       "      <td>0</td>\n",
       "      <td>0</td>\n",
       "      <td>1</td>\n",
       "      <td>0</td>\n",
       "      <td>1</td>\n",
       "      <td>8</td>\n",
       "      <td>1</td>\n",
       "      <td>0</td>\n",
       "      <td>0</td>\n",
       "    </tr>\n",
       "    <tr>\n",
       "      <td>greek</td>\n",
       "      <td>0</td>\n",
       "      <td>0</td>\n",
       "      <td>0</td>\n",
       "      <td>0</td>\n",
       "      <td>0</td>\n",
       "      <td>5</td>\n",
       "      <td>65</td>\n",
       "      <td>1</td>\n",
       "      <td>0</td>\n",
       "      <td>20</td>\n",
       "      <td>0</td>\n",
       "      <td>0</td>\n",
       "      <td>0</td>\n",
       "      <td>1</td>\n",
       "      <td>3</td>\n",
       "      <td>1</td>\n",
       "      <td>2</td>\n",
       "      <td>1</td>\n",
       "      <td>0</td>\n",
       "      <td>0</td>\n",
       "    </tr>\n",
       "    <tr>\n",
       "      <td>indian</td>\n",
       "      <td>0</td>\n",
       "      <td>0</td>\n",
       "      <td>0</td>\n",
       "      <td>0</td>\n",
       "      <td>0</td>\n",
       "      <td>0</td>\n",
       "      <td>1</td>\n",
       "      <td>93</td>\n",
       "      <td>0</td>\n",
       "      <td>1</td>\n",
       "      <td>0</td>\n",
       "      <td>0</td>\n",
       "      <td>0</td>\n",
       "      <td>2</td>\n",
       "      <td>0</td>\n",
       "      <td>0</td>\n",
       "      <td>1</td>\n",
       "      <td>0</td>\n",
       "      <td>1</td>\n",
       "      <td>0</td>\n",
       "    </tr>\n",
       "    <tr>\n",
       "      <td>irish</td>\n",
       "      <td>0</td>\n",
       "      <td>3</td>\n",
       "      <td>1</td>\n",
       "      <td>1</td>\n",
       "      <td>0</td>\n",
       "      <td>15</td>\n",
       "      <td>1</td>\n",
       "      <td>1</td>\n",
       "      <td>39</td>\n",
       "      <td>8</td>\n",
       "      <td>0</td>\n",
       "      <td>0</td>\n",
       "      <td>0</td>\n",
       "      <td>1</td>\n",
       "      <td>1</td>\n",
       "      <td>2</td>\n",
       "      <td>27</td>\n",
       "      <td>1</td>\n",
       "      <td>0</td>\n",
       "      <td>0</td>\n",
       "    </tr>\n",
       "    <tr>\n",
       "      <td>italian</td>\n",
       "      <td>0</td>\n",
       "      <td>0</td>\n",
       "      <td>0</td>\n",
       "      <td>0</td>\n",
       "      <td>0</td>\n",
       "      <td>4</td>\n",
       "      <td>1</td>\n",
       "      <td>0</td>\n",
       "      <td>0</td>\n",
       "      <td>91</td>\n",
       "      <td>0</td>\n",
       "      <td>0</td>\n",
       "      <td>0</td>\n",
       "      <td>1</td>\n",
       "      <td>0</td>\n",
       "      <td>0</td>\n",
       "      <td>2</td>\n",
       "      <td>0</td>\n",
       "      <td>0</td>\n",
       "      <td>0</td>\n",
       "    </tr>\n",
       "    <tr>\n",
       "      <td>jamaican</td>\n",
       "      <td>1</td>\n",
       "      <td>1</td>\n",
       "      <td>2</td>\n",
       "      <td>3</td>\n",
       "      <td>2</td>\n",
       "      <td>2</td>\n",
       "      <td>0</td>\n",
       "      <td>3</td>\n",
       "      <td>0</td>\n",
       "      <td>5</td>\n",
       "      <td>63</td>\n",
       "      <td>0</td>\n",
       "      <td>0</td>\n",
       "      <td>4</td>\n",
       "      <td>0</td>\n",
       "      <td>2</td>\n",
       "      <td>11</td>\n",
       "      <td>1</td>\n",
       "      <td>0</td>\n",
       "      <td>0</td>\n",
       "    </tr>\n",
       "    <tr>\n",
       "      <td>japanese</td>\n",
       "      <td>0</td>\n",
       "      <td>1</td>\n",
       "      <td>0</td>\n",
       "      <td>11</td>\n",
       "      <td>0</td>\n",
       "      <td>1</td>\n",
       "      <td>0</td>\n",
       "      <td>7</td>\n",
       "      <td>0</td>\n",
       "      <td>2</td>\n",
       "      <td>0</td>\n",
       "      <td>67</td>\n",
       "      <td>2</td>\n",
       "      <td>0</td>\n",
       "      <td>0</td>\n",
       "      <td>0</td>\n",
       "      <td>5</td>\n",
       "      <td>0</td>\n",
       "      <td>1</td>\n",
       "      <td>0</td>\n",
       "    </tr>\n",
       "    <tr>\n",
       "      <td>korean</td>\n",
       "      <td>0</td>\n",
       "      <td>0</td>\n",
       "      <td>0</td>\n",
       "      <td>18</td>\n",
       "      <td>0</td>\n",
       "      <td>0</td>\n",
       "      <td>0</td>\n",
       "      <td>0</td>\n",
       "      <td>0</td>\n",
       "      <td>2</td>\n",
       "      <td>0</td>\n",
       "      <td>5</td>\n",
       "      <td>68</td>\n",
       "      <td>0</td>\n",
       "      <td>0</td>\n",
       "      <td>0</td>\n",
       "      <td>2</td>\n",
       "      <td>0</td>\n",
       "      <td>2</td>\n",
       "      <td>1</td>\n",
       "    </tr>\n",
       "    <tr>\n",
       "      <td>mexican</td>\n",
       "      <td>0</td>\n",
       "      <td>0</td>\n",
       "      <td>0</td>\n",
       "      <td>0</td>\n",
       "      <td>0</td>\n",
       "      <td>1</td>\n",
       "      <td>0</td>\n",
       "      <td>0</td>\n",
       "      <td>0</td>\n",
       "      <td>2</td>\n",
       "      <td>0</td>\n",
       "      <td>0</td>\n",
       "      <td>0</td>\n",
       "      <td>93</td>\n",
       "      <td>0</td>\n",
       "      <td>0</td>\n",
       "      <td>3</td>\n",
       "      <td>0</td>\n",
       "      <td>0</td>\n",
       "      <td>0</td>\n",
       "    </tr>\n",
       "    <tr>\n",
       "      <td>moroccan</td>\n",
       "      <td>0</td>\n",
       "      <td>0</td>\n",
       "      <td>2</td>\n",
       "      <td>0</td>\n",
       "      <td>0</td>\n",
       "      <td>2</td>\n",
       "      <td>1</td>\n",
       "      <td>8</td>\n",
       "      <td>0</td>\n",
       "      <td>7</td>\n",
       "      <td>0</td>\n",
       "      <td>0</td>\n",
       "      <td>0</td>\n",
       "      <td>2</td>\n",
       "      <td>72</td>\n",
       "      <td>0</td>\n",
       "      <td>3</td>\n",
       "      <td>2</td>\n",
       "      <td>0</td>\n",
       "      <td>0</td>\n",
       "    </tr>\n",
       "    <tr>\n",
       "      <td>russian</td>\n",
       "      <td>0</td>\n",
       "      <td>4</td>\n",
       "      <td>3</td>\n",
       "      <td>0</td>\n",
       "      <td>1</td>\n",
       "      <td>17</td>\n",
       "      <td>1</td>\n",
       "      <td>1</td>\n",
       "      <td>3</td>\n",
       "      <td>11</td>\n",
       "      <td>0</td>\n",
       "      <td>1</td>\n",
       "      <td>0</td>\n",
       "      <td>3</td>\n",
       "      <td>1</td>\n",
       "      <td>39</td>\n",
       "      <td>14</td>\n",
       "      <td>1</td>\n",
       "      <td>1</td>\n",
       "      <td>0</td>\n",
       "    </tr>\n",
       "    <tr>\n",
       "      <td>southern_us</td>\n",
       "      <td>0</td>\n",
       "      <td>0</td>\n",
       "      <td>5</td>\n",
       "      <td>1</td>\n",
       "      <td>0</td>\n",
       "      <td>3</td>\n",
       "      <td>0</td>\n",
       "      <td>1</td>\n",
       "      <td>0</td>\n",
       "      <td>6</td>\n",
       "      <td>0</td>\n",
       "      <td>0</td>\n",
       "      <td>0</td>\n",
       "      <td>3</td>\n",
       "      <td>0</td>\n",
       "      <td>0</td>\n",
       "      <td>80</td>\n",
       "      <td>0</td>\n",
       "      <td>0</td>\n",
       "      <td>0</td>\n",
       "    </tr>\n",
       "    <tr>\n",
       "      <td>spanish</td>\n",
       "      <td>1</td>\n",
       "      <td>0</td>\n",
       "      <td>3</td>\n",
       "      <td>0</td>\n",
       "      <td>0</td>\n",
       "      <td>10</td>\n",
       "      <td>2</td>\n",
       "      <td>2</td>\n",
       "      <td>0</td>\n",
       "      <td>23</td>\n",
       "      <td>0</td>\n",
       "      <td>0</td>\n",
       "      <td>0</td>\n",
       "      <td>9</td>\n",
       "      <td>1</td>\n",
       "      <td>1</td>\n",
       "      <td>5</td>\n",
       "      <td>42</td>\n",
       "      <td>0</td>\n",
       "      <td>0</td>\n",
       "    </tr>\n",
       "    <tr>\n",
       "      <td>thai</td>\n",
       "      <td>0</td>\n",
       "      <td>0</td>\n",
       "      <td>0</td>\n",
       "      <td>7</td>\n",
       "      <td>1</td>\n",
       "      <td>0</td>\n",
       "      <td>0</td>\n",
       "      <td>3</td>\n",
       "      <td>0</td>\n",
       "      <td>1</td>\n",
       "      <td>0</td>\n",
       "      <td>1</td>\n",
       "      <td>0</td>\n",
       "      <td>3</td>\n",
       "      <td>0</td>\n",
       "      <td>0</td>\n",
       "      <td>1</td>\n",
       "      <td>0</td>\n",
       "      <td>77</td>\n",
       "      <td>5</td>\n",
       "    </tr>\n",
       "    <tr>\n",
       "      <td>vietnamese</td>\n",
       "      <td>0</td>\n",
       "      <td>0</td>\n",
       "      <td>0</td>\n",
       "      <td>13</td>\n",
       "      <td>2</td>\n",
       "      <td>0</td>\n",
       "      <td>0</td>\n",
       "      <td>2</td>\n",
       "      <td>0</td>\n",
       "      <td>1</td>\n",
       "      <td>0</td>\n",
       "      <td>2</td>\n",
       "      <td>1</td>\n",
       "      <td>1</td>\n",
       "      <td>0</td>\n",
       "      <td>0</td>\n",
       "      <td>1</td>\n",
       "      <td>0</td>\n",
       "      <td>28</td>\n",
       "      <td>48</td>\n",
       "    </tr>\n",
       "  </tbody>\n",
       "</table>\n",
       "</div>"
      ],
      "text/plain": [
       "              brazilian  british  cajun_creole  chinese  filipino  french  \\\n",
       "brazilian            35        0             1        1         3       3   \n",
       "british               0       33             1        0         0      17   \n",
       "cajun_creole          0        0            67        1         0       4   \n",
       "chinese               0        0             0       89         0       1   \n",
       "filipino              1        0             1       16        49       3   \n",
       "french                0        1             1        0         0      63   \n",
       "greek                 0        0             0        0         0       5   \n",
       "indian                0        0             0        0         0       0   \n",
       "irish                 0        3             1        1         0      15   \n",
       "italian               0        0             0        0         0       4   \n",
       "jamaican              1        1             2        3         2       2   \n",
       "japanese              0        1             0       11         0       1   \n",
       "korean                0        0             0       18         0       0   \n",
       "mexican               0        0             0        0         0       1   \n",
       "moroccan              0        0             2        0         0       2   \n",
       "russian               0        4             3        0         1      17   \n",
       "southern_us           0        0             5        1         0       3   \n",
       "spanish               1        0             3        0         0      10   \n",
       "thai                  0        0             0        7         1       0   \n",
       "vietnamese            0        0             0       13         2       0   \n",
       "\n",
       "              greek  indian  irish  italian  jamaican  japanese  korean  \\\n",
       "brazilian         0       3      1       15         0         0       0   \n",
       "british           0       2      3       13         0         0       0   \n",
       "cajun_creole      0       1      0        6         0         0       0   \n",
       "chinese           0       0      0        2         0         2       1   \n",
       "filipino          0       0      0        5         0         2       0   \n",
       "french            1       0      1       23         0         0       0   \n",
       "greek            65       1      0       20         0         0       0   \n",
       "indian            1      93      0        1         0         0       0   \n",
       "irish             1       1     39        8         0         0       0   \n",
       "italian           1       0      0       91         0         0       0   \n",
       "jamaican          0       3      0        5        63         0       0   \n",
       "japanese          0       7      0        2         0        67       2   \n",
       "korean            0       0      0        2         0         5      68   \n",
       "mexican           0       0      0        2         0         0       0   \n",
       "moroccan          1       8      0        7         0         0       0   \n",
       "russian           1       1      3       11         0         1       0   \n",
       "southern_us       0       1      0        6         0         0       0   \n",
       "spanish           2       2      0       23         0         0       0   \n",
       "thai              0       3      0        1         0         1       0   \n",
       "vietnamese        0       2      0        1         0         2       1   \n",
       "\n",
       "              mexican  moroccan  russian  southern_us  spanish  thai  \\\n",
       "brazilian          17         0        0           12        4     5   \n",
       "british             2         0        0           26        0     0   \n",
       "cajun_creole        3         0        0           16        1     0   \n",
       "chinese             1         0        0            1        0     2   \n",
       "filipino            5         0        0            9        0     4   \n",
       "french              1         0        1            8        1     0   \n",
       "greek               1         3        1            2        1     0   \n",
       "indian              2         0        0            1        0     1   \n",
       "irish               1         1        2           27        1     0   \n",
       "italian             1         0        0            2        0     0   \n",
       "jamaican            4         0        2           11        1     0   \n",
       "japanese            0         0        0            5        0     1   \n",
       "korean              0         0        0            2        0     2   \n",
       "mexican            93         0        0            3        0     0   \n",
       "moroccan            2        72        0            3        2     0   \n",
       "russian             3         1       39           14        1     1   \n",
       "southern_us         3         0        0           80        0     0   \n",
       "spanish             9         1        1            5       42     0   \n",
       "thai                3         0        0            1        0    77   \n",
       "vietnamese          1         0        0            1        0    28   \n",
       "\n",
       "              vietnamese  \n",
       "brazilian              0  \n",
       "british                0  \n",
       "cajun_creole           0  \n",
       "chinese                1  \n",
       "filipino               2  \n",
       "french                 0  \n",
       "greek                  0  \n",
       "indian                 0  \n",
       "irish                  0  \n",
       "italian                0  \n",
       "jamaican               0  \n",
       "japanese               0  \n",
       "korean                 1  \n",
       "mexican                0  \n",
       "moroccan               0  \n",
       "russian                0  \n",
       "southern_us            0  \n",
       "spanish                0  \n",
       "thai                   5  \n",
       "vietnamese            48  "
      ]
     },
     "execution_count": 68,
     "metadata": {},
     "output_type": "execute_result"
    }
   ],
   "source": [
    "cm.apply(lambda x: (x * 100).round()).applymap(lambda x: int(x))"
   ]
  },
  {
   "cell_type": "code",
   "execution_count": 72,
   "metadata": {},
   "outputs": [
    {
     "name": "stdout",
     "output_type": "stream",
     "text": [
      "|              | brazilian   | british   | cajun_creole   | chinese   | filipino   | french   | greek   | indian   | irish   | italian   | jamaican   | japanese   | korean   | mexican   | moroccan   | russian   | southern_us   | spanish   | thai   | vietnamese   |\n",
      "|--------------|-------------|-----------|----------------|-----------|------------|----------|---------|----------|---------|-----------|------------|------------|----------|-----------|------------|-----------|---------------|-----------|--------|--------------|\n",
      "| brazilian    | 35%         | 0%        | 1%             | 1%        | 3%         | 3%       | 0%      | 3%       | 1%      | 15%       | 0%         | 0%         | 0%       | 17%       | 0%         | 0%        | 12%           | 4%        | 5%     | 0%           |\n",
      "| british      | 0%          | 33%       | 1%             | 0%        | 0%         | 17%      | 0%      | 2%       | 3%      | 13%       | 0%         | 0%         | 0%       | 2%        | 0%         | 0%        | 26%           | 0%        | 0%     | 0%           |\n",
      "| cajun_creole | 0%          | 0%        | 67%            | 1%        | 0%         | 4%       | 0%      | 1%       | 0%      | 6%        | 0%         | 0%         | 0%       | 3%        | 0%         | 0%        | 16%           | 1%        | 0%     | 0%           |\n",
      "| chinese      | 0%          | 0%        | 0%             | 89%       | 0%         | 1%       | 0%      | 0%       | 0%      | 2%        | 0%         | 2%         | 1%       | 1%        | 0%         | 0%        | 1%            | 0%        | 2%     | 1%           |\n",
      "| filipino     | 1%          | 0%        | 1%             | 16%       | 49%        | 3%       | 0%      | 0%       | 0%      | 5%        | 0%         | 2%         | 0%       | 5%        | 0%         | 0%        | 9%            | 0%        | 4%     | 2%           |\n",
      "| french       | 0%          | 1%        | 1%             | 0%        | 0%         | 63%      | 1%      | 0%       | 1%      | 23%       | 0%         | 0%         | 0%       | 1%        | 0%         | 1%        | 8%            | 1%        | 0%     | 0%           |\n",
      "| greek        | 0%          | 0%        | 0%             | 0%        | 0%         | 5%       | 65%     | 1%       | 0%      | 20%       | 0%         | 0%         | 0%       | 1%        | 3%         | 1%        | 2%            | 1%        | 0%     | 0%           |\n",
      "| indian       | 0%          | 0%        | 0%             | 0%        | 0%         | 0%       | 1%      | 93%      | 0%      | 1%        | 0%         | 0%         | 0%       | 2%        | 0%         | 0%        | 1%            | 0%        | 1%     | 0%           |\n",
      "| irish        | 0%          | 3%        | 1%             | 1%        | 0%         | 15%      | 1%      | 1%       | 39%     | 8%        | 0%         | 0%         | 0%       | 1%        | 1%         | 2%        | 27%           | 1%        | 0%     | 0%           |\n",
      "| italian      | 0%          | 0%        | 0%             | 0%        | 0%         | 4%       | 1%      | 0%       | 0%      | 91%       | 0%         | 0%         | 0%       | 1%        | 0%         | 0%        | 2%            | 0%        | 0%     | 0%           |\n",
      "| jamaican     | 1%          | 1%        | 2%             | 3%        | 2%         | 2%       | 0%      | 3%       | 0%      | 5%        | 63%        | 0%         | 0%       | 4%        | 0%         | 2%        | 11%           | 1%        | 0%     | 0%           |\n",
      "| japanese     | 0%          | 1%        | 0%             | 11%       | 0%         | 1%       | 0%      | 7%       | 0%      | 2%        | 0%         | 67%        | 2%       | 0%        | 0%         | 0%        | 5%            | 0%        | 1%     | 0%           |\n",
      "| korean       | 0%          | 0%        | 0%             | 18%       | 0%         | 0%       | 0%      | 0%       | 0%      | 2%        | 0%         | 5%         | 68%      | 0%        | 0%         | 0%        | 2%            | 0%        | 2%     | 1%           |\n",
      "| mexican      | 0%          | 0%        | 0%             | 0%        | 0%         | 1%       | 0%      | 0%       | 0%      | 2%        | 0%         | 0%         | 0%       | 93%       | 0%         | 0%        | 3%            | 0%        | 0%     | 0%           |\n",
      "| moroccan     | 0%          | 0%        | 2%             | 0%        | 0%         | 2%       | 1%      | 8%       | 0%      | 7%        | 0%         | 0%         | 0%       | 2%        | 72%        | 0%        | 3%            | 2%        | 0%     | 0%           |\n",
      "| russian      | 0%          | 4%        | 3%             | 0%        | 1%         | 17%      | 1%      | 1%       | 3%      | 11%       | 0%         | 1%         | 0%       | 3%        | 1%         | 39%       | 14%           | 1%        | 1%     | 0%           |\n",
      "| southern_us  | 0%          | 0%        | 5%             | 1%        | 0%         | 3%       | 0%      | 1%       | 0%      | 6%        | 0%         | 0%         | 0%       | 3%        | 0%         | 0%        | 80%           | 0%        | 0%     | 0%           |\n",
      "| spanish      | 1%          | 0%        | 3%             | 0%        | 0%         | 10%      | 2%      | 2%       | 0%      | 23%       | 0%         | 0%         | 0%       | 9%        | 1%         | 1%        | 5%            | 42%       | 0%     | 0%           |\n",
      "| thai         | 0%          | 0%        | 0%             | 7%        | 1%         | 0%       | 0%      | 3%       | 0%      | 1%        | 0%         | 1%         | 0%       | 3%        | 0%         | 0%        | 1%            | 0%        | 77%    | 5%           |\n",
      "| vietnamese   | 0%          | 0%        | 0%             | 13%       | 2%         | 0%       | 0%      | 2%       | 0%      | 1%        | 0%         | 2%         | 1%       | 1%        | 0%         | 0%        | 1%            | 0%        | 28%    | 48%          |\n"
     ]
    }
   ],
   "source": [
    "a = cm.apply(lambda x: (x * 100).round()).applymap(lambda x: '{}%'.format(int(x)))\n",
    "print(tabulate(a, a.columns, tablefmt='github'))"
   ]
  },
  {
   "cell_type": "code",
   "execution_count": null,
   "metadata": {},
   "outputs": [],
   "source": []
  },
  {
   "cell_type": "code",
   "execution_count": 160,
   "metadata": {
    "ExecuteTime": {
     "end_time": "2019-07-09T12:28:44.028779Z",
     "start_time": "2019-07-09T12:28:43.976563Z"
    }
   },
   "outputs": [
    {
     "name": "stdout",
     "output_type": "stream",
     "text": [
      "            italian   mexican  brazilian\n",
      "brazilian  0.145833  0.173611   0.354167\n",
      "           french  southern_us   british\n",
      "british  0.174274     0.257261  0.327801\n",
      "               italian  southern_us  cajun_creole\n",
      "cajun_creole  0.064732     0.158482      0.674107\n",
      "          italian  japanese   chinese\n",
      "chinese  0.015892  0.018337  0.888753\n",
      "          southern_us   chinese  filipino\n",
      "filipino     0.091324  0.155251  0.488584\n",
      "        southern_us   italian    french\n",
      "french     0.079245  0.231447  0.625157\n",
      "         french   italian     greek\n",
      "greek  0.045584  0.202279  0.649573\n",
      "         italian   mexican    indian\n",
      "indian  0.009514  0.019027  0.933404\n",
      "         french  southern_us     irish\n",
      "irish  0.147368     0.268421  0.394737\n",
      "         southern_us    french   italian\n",
      "italian     0.023534  0.035516  0.911853\n",
      "           italian  southern_us  jamaican\n",
      "jamaican  0.051136     0.113636  0.630682\n",
      "            indian   chinese  japanese\n",
      "japanese  0.072464  0.113527  0.673913\n",
      "        japanese   chinese    korean\n",
      "korean  0.053571  0.178571  0.683036\n",
      "          italian  southern_us   mexican\n",
      "mexican  0.021739     0.029503  0.925466\n",
      "          italian    indian  moroccan\n",
      "moroccan  0.07265  0.076923  0.717949\n",
      "         southern_us    french   russian\n",
      "russian     0.141892  0.168919  0.391892\n",
      "             cajun_creole   italian  southern_us\n",
      "southern_us      0.045701  0.058095     0.803253\n",
      "          french  italian   spanish\n",
      "spanish  0.10356  0.23301  0.423948\n",
      "      vietnamese  chinese      thai\n",
      "thai    0.052743  0.07173  0.765823\n",
      "             chinese      thai  vietnamese\n",
      "vietnamese  0.132231  0.280992    0.483471\n"
     ]
    }
   ],
   "source": [
    "for _, row in cm.iterrows():\n",
    "    print(row.sort_values().tail(3).to_frame().T)"
   ]
  },
  {
   "cell_type": "code",
   "execution_count": 152,
   "metadata": {
    "ExecuteTime": {
     "end_time": "2019-07-09T12:26:46.835950Z",
     "start_time": "2019-07-09T12:26:46.494115Z"
    }
   },
   "outputs": [
    {
     "data": {
      "text/plain": [
       "<matplotlib.axes._subplots.AxesSubplot at 0x13945fe48>"
      ]
     },
     "execution_count": 152,
     "metadata": {},
     "output_type": "execute_result"
    },
    {
     "data": {
      "image/png": "[encoded data removed]",
      "text/plain": [
       "<Figure size 432x288 with 2 Axes>"
      ]
     },
     "metadata": {
      "needs_background": "light"
     },
     "output_type": "display_data"
    }
   ],
   "source": [
    "sns.heatmap(cm)"
   ]
  },
  {
   "cell_type": "code",
   "execution_count": 123,
   "metadata": {
    "ExecuteTime": {
     "end_time": "2019-07-09T16:15:09.526886Z",
     "start_time": "2019-07-09T16:15:09.459103Z"
    }
   },
   "outputs": [],
   "source": [
    "recipe = [\n",
    "  {\n",
    "    \"input\": \"1 whole lobster weighing approx.\",\n",
    "    \"name\": \"lobster\",\n",
    "    \"qty\": \"1\",\n",
    "    \"comment\": \"whole weighing approx.\"\n",
    "  },\n",
    "  {\n",
    "    \"unit\": \"gram\",\n",
    "    \"input\": \"500 grams\",\n",
    "    \"qty\": \"500\"\n",
    "  },\n",
    "  {\n",
    "    \"input\": \"100 gms mushrooms\",\n",
    "    \"name\": \"gms mushrooms\",\n",
    "    \"qty\": \"100\"\n",
    "  },\n",
    "  {\n",
    "    \"input\": \"8 gms garlic\",\n",
    "    \"name\": \"gms garlic\",\n",
    "    \"qty\": \"8\"\n",
    "  },\n",
    "  {\n",
    "    \"input\": \"10 gms red onion\",\n",
    "    \"name\": \"gms red onion\",\n",
    "    \"qty\": \"10\"\n",
    "  },\n",
    "  {\n",
    "    \"other\": \"ml\",\n",
    "    \"input\": \"50 ml fresh cream\",\n",
    "    \"name\": \"fresh cream\",\n",
    "    \"qty\": \"50\"\n",
    "  },\n",
    "  {\n",
    "    \"input\": \"1 egg yolk\",\n",
    "    \"name\": \"egg\",\n",
    "    \"qty\": \"1\",\n",
    "    \"comment\": \"yolk\"\n",
    "  },\n",
    "  {\n",
    "    \"other\": \"ml\",\n",
    "    \"input\": \"60 ml cognac\",\n",
    "    \"name\": \"cognac\",\n",
    "    \"qty\": \"60\"\n",
    "  },\n",
    "  {\n",
    "    \"input\": \"10 gm thyme\",\n",
    "    \"name\": \"gm thyme\",\n",
    "    \"qty\": \"10\"\n",
    "  },\n",
    "  {\n",
    "    \"unit\": \"pinch\",\n",
    "    \"other\": \"A of\",\n",
    "    \"input\": \"A pinch of nutmeg\",\n",
    "    \"name\": \"nutmeg\"\n",
    "  },\n",
    "  {\n",
    "    \"other\": \"-\",\n",
    "    \"input\": \"10 - 20 gms Parmesan cheese\",\n",
    "    \"name\": \"gms Parmesan cheese\",\n",
    "    \"qty\": \"10\"\n",
    "  },\n",
    "  {\n",
    "    \"other\": \"-\",\n",
    "    \"input\": \"20 - 30 gms Gruyere cheese\",\n",
    "    \"name\": \"gms Gruyere cheese\",\n",
    "    \"qty\": \"20\"\n",
    "  }\n",
    "]"
   ]
  },
  {
   "cell_type": "code",
   "execution_count": 125,
   "metadata": {
    "ExecuteTime": {
     "end_time": "2019-07-09T16:15:18.643722Z",
     "start_time": "2019-07-09T16:15:18.640481Z"
    }
   },
   "outputs": [],
   "source": [
    "recipe = [i.get('name') for i in recipe]"
   ]
  },
  {
   "cell_type": "code",
   "execution_count": 127,
   "metadata": {
    "ExecuteTime": {
     "end_time": "2019-07-09T16:20:44.755482Z",
     "start_time": "2019-07-09T16:20:44.753091Z"
    }
   },
   "outputs": [],
   "source": [
    "recipe = [i for i in recipe if i is not None]"
   ]
  },
  {
   "cell_type": "code",
   "execution_count": 129,
   "metadata": {
    "ExecuteTime": {
     "end_time": "2019-07-09T16:20:47.352886Z",
     "start_time": "2019-07-09T16:20:47.349181Z"
    }
   },
   "outputs": [
    {
     "data": {
      "text/plain": [
       "'lobster gms mushrooms gms garlic gms red onion fresh cream egg cognac gm thyme nutmeg gms Parmesan cheese gms Gruyere cheese'"
      ]
     },
     "execution_count": 129,
     "metadata": {},
     "output_type": "execute_result"
    }
   ],
   "source": [
    "r = lemmatize(recipe, lemmatizer)\n",
    "r"
   ]
  },
  {
   "cell_type": "code",
   "execution_count": 194,
   "metadata": {
    "ExecuteTime": {
     "end_time": "2019-07-09T13:00:00.842865Z",
     "start_time": "2019-07-09T13:00:00.836355Z"
    }
   },
   "outputs": [
    {
     "data": {
      "text/plain": [
       "british         0.501035\n",
       "indian          0.067393\n",
       "french          0.063579\n",
       "southern_us     0.059888\n",
       "italian         0.056644\n",
       "mexican         0.040401\n",
       "irish           0.034801\n",
       "cajun_creole    0.033016\n",
       "jamaican        0.024313\n",
       "japanese        0.023058\n",
       "filipino        0.015135\n",
       "russian         0.013943\n",
       "korean          0.012805\n",
       "brazilian       0.010237\n",
       "chinese         0.009749\n",
       "vietnamese      0.009452\n",
       "greek           0.008946\n",
       "spanish         0.007762\n",
       "moroccan        0.006633\n",
       "thai            0.001213\n",
       "dtype: float64"
      ]
     },
     "execution_count": 194,
     "metadata": {},
     "output_type": "execute_result"
    }
   ],
   "source": [
    "pd.Series(estimator.predict_proba([r])[0], index=clf.classes_).sort_values(ascending=False)"
   ]
  },
  {
   "cell_type": "code",
   "execution_count": null,
   "metadata": {},
   "outputs": [],
   "source": []
  },
  {
   "cell_type": "code",
   "execution_count": 27,
   "metadata": {
    "ExecuteTime": {
     "end_time": "2019-07-09T15:02:08.951067Z",
     "start_time": "2019-07-09T15:02:08.948560Z"
    }
   },
   "outputs": [],
   "source": [
    "import json"
   ]
  },
  {
   "cell_type": "code",
   "execution_count": 76,
   "metadata": {
    "ExecuteTime": {
     "end_time": "2019-07-09T15:12:31.153214Z",
     "start_time": "2019-07-09T15:12:24.117969Z"
    }
   },
   "outputs": [
    {
     "name": "stderr",
     "output_type": "stream",
     "text": [
      "/Users/olegkim/miniconda3/envs/telemetry/lib/python3.7/site-packages/sklearn/linear_model/logistic.py:432: FutureWarning: Default solver will be changed to 'lbfgs' in 0.22. Specify a solver to silence this warning.\n",
      "  FutureWarning)\n",
      "/Users/olegkim/miniconda3/envs/telemetry/lib/python3.7/site-packages/sklearn/linear_model/logistic.py:459: FutureWarning: Default multi_class will be changed to 'auto' in 0.22. Specify the multi_class option to silence this warning.\n",
      "  \"this warning.\", FutureWarning)\n"
     ]
    },
    {
     "data": {
      "text/plain": [
       "Pipeline(memory=None,\n",
       "     steps=[('tfidfvectorizer', TfidfVectorizer(analyzer='word', binary=False, decode_error='strict',\n",
       "        dtype=<class 'numpy.float64'>, encoding='utf-8', input='content',\n",
       "        lowercase=True, max_df=1.0, max_features=None, min_df=1,\n",
       "        ngram_range=(1, 1), norm='l2', preprocessor=None, smooth...e, penalty='l2', random_state=0, solver='warn',\n",
       "          tol=0.0001, verbose=0, warm_start=False))])"
      ]
     },
     "execution_count": 76,
     "metadata": {},
     "output_type": "execute_result"
    }
   ],
   "source": [
    "estimator.fit(X, y)"
   ]
  },
  {
   "cell_type": "code",
   "execution_count": null,
   "metadata": {},
   "outputs": [],
   "source": []
  },
  {
   "cell_type": "code",
   "execution_count": 90,
   "metadata": {
    "ExecuteTime": {
     "end_time": "2019-07-09T14:54:17.455251Z",
     "start_time": "2019-07-09T14:54:17.450883Z"
    }
   },
   "outputs": [
    {
     "name": "stdout",
     "output_type": "stream",
     "text": [
      "{'analyzer': 'word', 'binary': False, 'decode_error': 'strict', 'dtype': <class 'numpy.float64'>, 'encoding': 'utf-8', 'input': 'content', 'lowercase': True, 'max_df': 1.0, 'max_features': None, 'min_df': 1, 'ngram_range': (1, 1), 'norm': 'l2', 'preprocessor': None, 'smooth_idf': True, 'stop_words': 'english', 'strip_accents': None, 'sublinear_tf': False, 'token_pattern': '(?u)\\\\b\\\\w\\\\w+\\\\b', 'tokenizer': None, 'use_idf': True, 'vocabulary': None}\n"
     ]
    }
   ],
   "source": [
    "print(vectorizer.get_params())"
   ]
  },
  {
   "cell_type": "code",
   "execution_count": 77,
   "metadata": {
    "ExecuteTime": {
     "end_time": "2019-07-09T15:12:35.761053Z",
     "start_time": "2019-07-09T15:12:35.757447Z"
    }
   },
   "outputs": [],
   "source": [
    "vectorizer.idf_.tofile('idf.npy')"
   ]
  },
  {
   "cell_type": "code",
   "execution_count": 25,
   "metadata": {
    "ExecuteTime": {
     "end_time": "2019-07-09T15:02:05.951184Z",
     "start_time": "2019-07-09T15:02:05.947362Z"
    }
   },
   "outputs": [],
   "source": []
  },
  {
   "cell_type": "code",
   "execution_count": 78,
   "metadata": {
    "ExecuteTime": {
     "end_time": "2019-07-09T15:12:42.979673Z",
     "start_time": "2019-07-09T15:12:42.970298Z"
    }
   },
   "outputs": [],
   "source": [
    "with open('vocabulary.json', 'w') as f:\n",
    "    vocabulary = {k: int(v) for k, v in vectorizer.vocabulary_.items()}\n",
    "    json.dump(vocabulary, f)"
   ]
  },
  {
   "cell_type": "code",
   "execution_count": null,
   "metadata": {},
   "outputs": [],
   "source": []
  },
  {
   "cell_type": "code",
   "execution_count": null,
   "metadata": {},
   "outputs": [],
   "source": []
  },
  {
   "cell_type": "code",
   "execution_count": 89,
   "metadata": {
    "ExecuteTime": {
     "end_time": "2019-07-09T15:02:19.121354Z",
     "start_time": "2019-07-09T15:02:19.117003Z"
    }
   },
   "outputs": [
    {
     "name": "stdout",
     "output_type": "stream",
     "text": [
      "{'C': 1.0, 'class_weight': None, 'dual': False, 'fit_intercept': True, 'intercept_scaling': 1, 'l1_ratio': None, 'max_iter': 100, 'multi_class': 'warn', 'n_jobs': None, 'penalty': 'l2', 'random_state': 0, 'solver': 'warn', 'tol': 0.0001, 'verbose': 0, 'warm_start': False}\n"
     ]
    }
   ],
   "source": [
    "print(clf.get_params())"
   ]
  },
  {
   "cell_type": "code",
   "execution_count": 91,
   "metadata": {
    "ExecuteTime": {
     "end_time": "2019-07-09T15:14:41.674023Z",
     "start_time": "2019-07-09T15:14:41.666628Z"
    }
   },
   "outputs": [],
   "source": [
    "clf.coef_.tofile('coef.npy')"
   ]
  },
  {
   "cell_type": "code",
   "execution_count": 80,
   "metadata": {
    "ExecuteTime": {
     "end_time": "2019-07-09T15:12:46.801003Z",
     "start_time": "2019-07-09T15:12:46.798260Z"
    }
   },
   "outputs": [],
   "source": [
    "clf.intercept_.tofile('intercept.npy')"
   ]
  },
  {
   "cell_type": "code",
   "execution_count": 81,
   "metadata": {
    "ExecuteTime": {
     "end_time": "2019-07-09T15:12:51.305472Z",
     "start_time": "2019-07-09T15:12:51.301641Z"
    }
   },
   "outputs": [],
   "source": [
    "np.savetxt('classes.txt', clf.classes_, delimiter=',', fmt='%s')"
   ]
  },
  {
   "cell_type": "code",
   "execution_count": 53,
   "metadata": {
    "ExecuteTime": {
     "end_time": "2019-07-09T15:05:48.407231Z",
     "start_time": "2019-07-09T15:05:48.401758Z"
    }
   },
   "outputs": [
    {
     "data": {
      "text/plain": [
       "array(['brazilian', 'british', 'cajun_creole', 'chinese', 'filipino',\n",
       "       'french', 'greek', 'indian', 'irish', 'italian', 'jamaican',\n",
       "       'japanese', 'korean', 'mexican', 'moroccan', 'russian',\n",
       "       'southern_us', 'spanish', 'thai', 'vietnamese'], dtype='<U12')"
      ]
     },
     "execution_count": 53,
     "metadata": {},
     "output_type": "execute_result"
    }
   ],
   "source": [
    "# np.loadtxt('classes.txt', delimiter=',', dtype=str)"
   ]
  },
  {
   "cell_type": "code",
   "execution_count": null,
   "metadata": {},
   "outputs": [],
   "source": []
  },
  {
   "cell_type": "code",
   "execution_count": 93,
   "metadata": {
    "ExecuteTime": {
     "end_time": "2019-07-09T15:03:50.497200Z",
     "start_time": "2019-07-09T15:03:50.492083Z"
    }
   },
   "outputs": [
    {
     "data": {
      "text/plain": [
       "array(['spanish'], dtype=object)"
      ]
     },
     "execution_count": 93,
     "metadata": {},
     "output_type": "execute_result"
    }
   ],
   "source": [
    "clf.predict(vectorizer.transform(['eggs']))"
   ]
  },
  {
   "cell_type": "code",
   "execution_count": null,
   "metadata": {},
   "outputs": [],
   "source": []
  },
  {
   "cell_type": "code",
   "execution_count": 121,
   "metadata": {
    "ExecuteTime": {
     "end_time": "2019-07-09T15:23:34.430832Z",
     "start_time": "2019-07-09T15:23:34.413876Z"
    }
   },
   "outputs": [],
   "source": [
    "vectorizer2 = TfidfVectorizer(**{\n",
    "    'analyzer': 'word',\n",
    "    'binary': False,\n",
    "    'decode_error': 'strict',\n",
    "    'dtype': np.float64,\n",
    "    'encoding': 'utf-8',\n",
    "    'input': 'content',\n",
    "    'lowercase': True,\n",
    "    'max_df': 1.0,\n",
    "    'max_features': None,\n",
    "    'min_df': 1,\n",
    "    'ngram_range': (1, 1),\n",
    "    'norm': 'l2',\n",
    "    'preprocessor': None,\n",
    "    'smooth_idf': True,\n",
    "    'stop_words': 'english',\n",
    "    'strip_accents': None,\n",
    "    'sublinear_tf': False,\n",
    "    'token_pattern': '(?u)\\\\b\\\\w\\\\w+\\\\b',\n",
    "    'tokenizer': None,\n",
    "    'use_idf': True,\n",
    "    'vocabulary': None\n",
    "})\n",
    "\n",
    "vectorizer2.idf_ = np.fromfile('idf.npy')\n",
    "with open('vocabulary.json') as f:\n",
    "    vectorizer2.vocabulary_ = json.load(f)\n",
    "\n",
    "clf2 = LogisticRegression(**{\n",
    "    'C': 1.0,\n",
    "    'class_weight': None,\n",
    "    'dual': False,\n",
    "    'fit_intercept': True,\n",
    "    'intercept_scaling': 1,\n",
    "    'max_iter': 100,\n",
    "    'multi_class': 'warn',\n",
    "    'n_jobs': None,\n",
    "    'penalty': 'l2',\n",
    "    'random_state': 0,\n",
    "    'solver': 'warn',\n",
    "    'tol': 0.0001,\n",
    "    'verbose': 0,\n",
    "    'warm_start': False\n",
    "})\n",
    "\n",
    "clf2.coef_ = np.fromfile('coef.npy').reshape(-1, 2960)\n",
    "clf2.intercept_ = np.fromfile('intercept.npy')\n",
    "clf2.classes_ = np.loadtxt('classes.txt', delimiter=',', dtype=str)\n",
    "\n",
    "estimator2 = make_pipeline(lemmatizer, vectorizer2, clf2)\n",
    "\n"
   ]
  },
  {
   "cell_type": "code",
   "execution_count": 123,
   "metadata": {},
   "outputs": [
    {
     "data": {
      "text/plain": [
       "array(['korean'], dtype='<U12')"
      ]
     },
     "execution_count": 123,
     "metadata": {},
     "output_type": "execute_result"
    }
   ],
   "source": [
    "estimator2.predict([['kimchi']])"
   ]
  },
  {
   "cell_type": "code",
   "execution_count": null,
   "metadata": {},
   "outputs": [],
   "source": []
  },
  {
   "cell_type": "code",
   "execution_count": 99,
   "metadata": {},
   "outputs": [
    {
     "data": {
      "text/plain": [
       "array(['korean'], dtype='<U12')"
      ]
     },
     "execution_count": 99,
     "metadata": {},
     "output_type": "execute_result"
    }
   ],
   "source": [
    "estimator2.predict(['kimchi'])"
   ]
  },
  {
   "cell_type": "code",
   "execution_count": null,
   "metadata": {},
   "outputs": [],
   "source": []
  },
  {
   "cell_type": "code",
   "execution_count": null,
   "metadata": {},
   "outputs": [],
   "source": []
  },
  {
   "cell_type": "code",
   "execution_count": null,
   "metadata": {},
   "outputs": [],
   "source": []
  },
  {
   "cell_type": "code",
   "execution_count": 122,
   "metadata": {
    "ExecuteTime": {
     "end_time": "2019-07-09T15:41:44.232963Z",
     "start_time": "2019-07-09T15:41:44.229028Z"
    }
   },
   "outputs": [
    {
     "data": {
      "text/plain": [
       "'eggs sdj'"
      ]
     },
     "execution_count": 122,
     "metadata": {},
     "output_type": "execute_result"
    }
   ],
   "source": [
    "lemmatize('eggs\\nsdj', lemmatizer, as_array=False)"
   ]
  },
  {
   "cell_type": "code",
   "execution_count": 120,
   "metadata": {
    "ExecuteTime": {
     "end_time": "2019-07-09T15:29:32.603381Z",
     "start_time": "2019-07-09T15:29:32.598744Z"
    }
   },
   "outputs": [
    {
     "data": {
      "text/plain": [
       "array(['italian'], dtype=object)"
      ]
     },
     "execution_count": 120,
     "metadata": {},
     "output_type": "execute_result"
    }
   ],
   "source": [
    "query = ''\n",
    "query = lemmatize(query, lemmatizer)\n",
    "estimator.predict([query])"
   ]
  },
  {
   "cell_type": "code",
   "execution_count": 100,
   "metadata": {
    "ExecuteTime": {
     "end_time": "2019-07-09T15:16:47.128423Z",
     "start_time": "2019-07-09T15:16:47.124180Z"
    }
   },
   "outputs": [
    {
     "data": {
      "text/plain": [
       "(20, 2960)"
      ]
     },
     "execution_count": 100,
     "metadata": {},
     "output_type": "execute_result"
    }
   ],
   "source": [
    "clf.coef_.shape"
   ]
  },
  {
   "cell_type": "code",
   "execution_count": 94,
   "metadata": {
    "ExecuteTime": {
     "end_time": "2019-07-09T15:15:21.095998Z",
     "start_time": "2019-07-09T15:15:21.088457Z"
    }
   },
   "outputs": [],
   "source": [
    "clf.coef_.tofile('coef.npy')"
   ]
  },
  {
   "cell_type": "code",
   "execution_count": 113,
   "metadata": {
    "ExecuteTime": {
     "end_time": "2019-07-09T15:20:46.118832Z",
     "start_time": "2019-07-09T15:20:46.115527Z"
    }
   },
   "outputs": [],
   "source": [
    "a = np.fromfile('coef.npy')"
   ]
  },
  {
   "cell_type": "code",
   "execution_count": 114,
   "metadata": {
    "ExecuteTime": {
     "end_time": "2019-07-09T15:20:49.019744Z",
     "start_time": "2019-07-09T15:20:49.017174Z"
    }
   },
   "outputs": [],
   "source": [
    "a.dtype.names"
   ]
  },
  {
   "cell_type": "code",
   "execution_count": 110,
   "metadata": {
    "ExecuteTime": {
     "end_time": "2019-07-09T15:20:17.331076Z",
     "start_time": "2019-07-09T15:20:17.324169Z"
    }
   },
   "outputs": [
    {
     "data": {
      "text/plain": [
       "(59200,)"
      ]
     },
     "execution_count": 110,
     "metadata": {},
     "output_type": "execute_result"
    }
   ],
   "source": [
    "np.array(clf2.coef_.tolist()).shape"
   ]
  },
  {
   "cell_type": "code",
   "execution_count": null,
   "metadata": {
    "ExecuteTime": {
     "end_time": "2019-07-09T15:13:52.158324Z",
     "start_time": "2019-07-09T15:13:52.140066Z"
    }
   },
   "outputs": [],
   "source": []
  },
  {
   "cell_type": "code",
   "execution_count": null,
   "metadata": {},
   "outputs": [],
   "source": []
  }
 ],
 "metadata": {
  "kernelspec": {
   "display_name": "Python 3",
   "language": "python",
   "name": "python3"
  },
  "language_info": {
   "codemirror_mode": {
    "name": "ipython",
    "version": 3
   },
   "file_extension": ".py",
   "mimetype": "text/x-python",
   "name": "python",
   "nbconvert_exporter": "python",
   "pygments_lexer": "ipython3",
   "version": "3.7.4"
  },
  "toc": {
   "base_numbering": 1,
   "nav_menu": {},
   "number_sections": true,
   "sideBar": false,
   "skip_h1_title": false,
   "title_cell": "Table of Contents",
   "title_sidebar": "Contents",
   "toc_cell": false,
   "toc_position": {},
   "toc_section_display": true,
   "toc_window_display": false
  }
 },
 "nbformat": 4,
 "nbformat_minor": 2
}
